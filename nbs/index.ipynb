{
 "cells": [
  {
   "cell_type": "code",
   "execution_count": null,
   "metadata": {},
   "outputs": [],
   "source": [
    "#| hide\n",
    "import sys; sys.path.append('..')\n",
    "from scholaris_minimal_reproduction_1.core import *"
   ]
  },
  {
   "cell_type": "code",
   "execution_count": null,
   "metadata": {},
   "outputs": [
    {
     "name": "stdout",
     "output_type": "stream",
     "text": [
      "Downloaded models: ['llava', 'llama3.1', 'mxbai-embed-large', 'codegemma', 'gemma2', 'aya']\n",
      "Error: 'Assistant' object has no attribute 'model'\n",
      "\u001b[90mLoaded Semantic Scholar API key from the environment variables.\u001b[0m\n",
      "\u001b[90mLoaded email address from the environment variables.\u001b[0m\n",
      "\u001b[90mA local directory /Users/user2/GitHub/scholaris-minimal-reproduction-1/data already exists for storing data files. No of files: 0\u001b[0m\n",
      "\n"
     ]
    }
   ],
   "source": [
    "assistant = Assistant()"
   ]
  },
  {
   "cell_type": "markdown",
   "metadata": {},
   "source": [
    "# scholaris-minimal-reproduction-1\n",
    "\n",
    "> Minimal reproduction of scholaris Assistant class"
   ]
  }
 ],
 "metadata": {
  "kernelspec": {
   "display_name": "python3",
   "language": "python",
   "name": "python3"
  }
 },
 "nbformat": 4,
 "nbformat_minor": 4
}
